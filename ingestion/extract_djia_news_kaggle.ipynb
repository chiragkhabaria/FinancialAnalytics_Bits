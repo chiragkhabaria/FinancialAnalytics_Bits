{
 "cells": [
  {
   "cell_type": "code",
   "execution_count": 4,
   "metadata": {},
   "outputs": [],
   "source": [
    "## import the  packages\n",
    "import pandas as pd\n",
    "import json "
   ]
  },
  {
   "cell_type": "code",
   "execution_count": 3,
   "metadata": {},
   "outputs": [],
   "source": [
    "## create the pandas DF on top of the archive file download \n",
    "csv_file_location = r\"D:\\data\\development\\FinAnalytics\\stocks_data\\kaggle\\archive\\us_equities_news_dataset.csv\"\n",
    "df = pd.read_csv(csv_file_location)"
   ]
  },
  {
   "cell_type": "code",
   "execution_count": null,
   "metadata": {},
   "outputs": [],
   "source": [
    "## high level EDA \n",
    "df.info()"
   ]
  },
  {
   "cell_type": "code",
   "execution_count": 22,
   "metadata": {},
   "outputs": [
    {
     "name": "stdout",
     "output_type": "stream",
     "text": [
      "DJIA companies list :: ['CRM', 'WBA', 'V', 'NKE', 'UNH', 'TRV', 'VZ', 'INTC', 'WMT', 'JNJ', 'DIS', 'MCD', 'JPM', 'CAT', 'BA', 'AMGN', 'DOW', 'AAPL', 'GS', 'CSCO', 'MSFT', 'HD', 'PG', 'MRK', 'IBM', 'HON', 'KO', 'CVX', 'AXP', 'MMM']\n"
     ]
    }
   ],
   "source": [
    "## fetch the companies that exists in DJIA \n",
    "djia_companies_path = 'D:\\data\\development\\FinAnalytics\\stocks_data\\djia\\companies\\djiacompanies.json'\n",
    "with open(djia_companies_path, 'r') as f:\n",
    "    djia_companies = json.load(f)\n",
    "\n",
    "## loading the djia companies symbol into an array \n",
    "djia_companies_symbol = []\n",
    "for djia_company in djia_companies:\n",
    "    djia_companies_symbol.append(djia_company['symbol'])\n",
    "\n",
    "print(f'DJIA companies list :: {djia_companies_symbol}')"
   ]
  },
  {
   "cell_type": "code",
   "execution_count": 28,
   "metadata": {},
   "outputs": [],
   "source": [
    "## Filter kaggle news for only DJIA companies\n",
    "djia_companies_news_df = df.query('ticker.isin(@djia_companies_symbol)')"
   ]
  },
  {
   "cell_type": "code",
   "execution_count": 38,
   "metadata": {},
   "outputs": [],
   "source": [
    "## check if only djia companies exists \n",
    "djia_companies_df_groupped = djia_companies_news_df.groupby(['ticker']).count()\n"
   ]
  },
  {
   "cell_type": "code",
   "execution_count": 42,
   "metadata": {},
   "outputs": [
    {
     "data": {
      "text/html": [
       "<div>\n",
       "<style scoped>\n",
       "    .dataframe tbody tr th:only-of-type {\n",
       "        vertical-align: middle;\n",
       "    }\n",
       "\n",
       "    .dataframe tbody tr th {\n",
       "        vertical-align: top;\n",
       "    }\n",
       "\n",
       "    .dataframe thead th {\n",
       "        text-align: right;\n",
       "    }\n",
       "</style>\n",
       "<table border=\"1\" class=\"dataframe\">\n",
       "  <thead>\n",
       "    <tr style=\"text-align: right;\">\n",
       "      <th></th>\n",
       "      <th>id</th>\n",
       "      <th>title</th>\n",
       "      <th>category</th>\n",
       "      <th>content</th>\n",
       "      <th>release_date</th>\n",
       "      <th>provider</th>\n",
       "      <th>url</th>\n",
       "      <th>article_id</th>\n",
       "    </tr>\n",
       "    <tr>\n",
       "      <th>ticker</th>\n",
       "      <th></th>\n",
       "      <th></th>\n",
       "      <th></th>\n",
       "      <th></th>\n",
       "      <th></th>\n",
       "      <th></th>\n",
       "      <th></th>\n",
       "      <th></th>\n",
       "    </tr>\n",
       "  </thead>\n",
       "  <tbody>\n",
       "  </tbody>\n",
       "</table>\n",
       "</div>"
      ],
      "text/plain": [
       "Empty DataFrame\n",
       "Columns: [id, title, category, content, release_date, provider, url, article_id]\n",
       "Index: []"
      ]
     },
     "execution_count": 42,
     "metadata": {},
     "output_type": "execute_result"
    }
   ],
   "source": [
    "##check if any of the ticker values are missing in filtered recordset by running not in query on the groupped df \n",
    "djia_companies_df_groupped.query('~ticker.isin(@djia_companies_symbol)')"
   ]
  },
  {
   "cell_type": "code",
   "execution_count": 2,
   "metadata": {},
   "outputs": [
    {
     "ename": "NameError",
     "evalue": "name 'djia_companies_news_df' is not defined",
     "output_type": "error",
     "traceback": [
      "\u001b[1;31m---------------------------------------------------------------------------\u001b[0m",
      "\u001b[1;31mNameError\u001b[0m                                 Traceback (most recent call last)",
      "\u001b[1;32m~\\AppData\\Local\\Temp/ipykernel_22804/3413985419.py\u001b[0m in \u001b[0;36m<module>\u001b[1;34m\u001b[0m\n\u001b[0;32m      1\u001b[0m \u001b[1;31m### store the kaggle dataset in parquet that can be further used for builting machine learning model\u001b[0m\u001b[1;33m\u001b[0m\u001b[1;33m\u001b[0m\u001b[0m\n\u001b[0;32m      2\u001b[0m \u001b[0mparquet_data_location\u001b[0m \u001b[1;33m=\u001b[0m \u001b[1;34mr'D:\\data\\development\\FinAnalytics\\stocks_data\\kaggle\\parquet\\djia_companies_new.parquet'\u001b[0m\u001b[1;33m\u001b[0m\u001b[1;33m\u001b[0m\u001b[0m\n\u001b[1;32m----> 3\u001b[1;33m \u001b[0mdjia_companies_news_df\u001b[0m\u001b[1;33m.\u001b[0m\u001b[0mto_parquet\u001b[0m\u001b[1;33m(\u001b[0m\u001b[0mparquet_data_location\u001b[0m\u001b[1;33m,\u001b[0m \u001b[0mengine\u001b[0m\u001b[1;33m=\u001b[0m\u001b[1;34m'fastparquet'\u001b[0m\u001b[1;33m)\u001b[0m\u001b[1;33m\u001b[0m\u001b[1;33m\u001b[0m\u001b[0m\n\u001b[0m",
      "\u001b[1;31mNameError\u001b[0m: name 'djia_companies_news_df' is not defined"
     ]
    }
   ],
   "source": [
    "### store the kaggle dataset in parquet that can be further used for builting machine learning model \n",
    "parquet_data_location = r'D:\\data\\development\\FinAnalytics\\stocks_data\\kaggle\\parquet\\djia_companies_new.parquet'\n",
    "djia_companies_news_df.to_parquet(parquet_data_location, engine='fastparquet')\n"
   ]
  },
  {
   "cell_type": "code",
   "execution_count": 5,
   "metadata": {},
   "outputs": [],
   "source": [
    "djia_news_companies_parquet_df = pd.read_parquet(parquet_data_location)"
   ]
  },
  {
   "cell_type": "code",
   "execution_count": 6,
   "metadata": {},
   "outputs": [
    {
     "data": {
      "text/html": [
       "<div>\n",
       "<style scoped>\n",
       "    .dataframe tbody tr th:only-of-type {\n",
       "        vertical-align: middle;\n",
       "    }\n",
       "\n",
       "    .dataframe tbody tr th {\n",
       "        vertical-align: top;\n",
       "    }\n",
       "\n",
       "    .dataframe thead th {\n",
       "        text-align: right;\n",
       "    }\n",
       "</style>\n",
       "<table border=\"1\" class=\"dataframe\">\n",
       "  <thead>\n",
       "    <tr style=\"text-align: right;\">\n",
       "      <th></th>\n",
       "      <th>id</th>\n",
       "      <th>ticker</th>\n",
       "      <th>title</th>\n",
       "      <th>category</th>\n",
       "      <th>content</th>\n",
       "      <th>release_date</th>\n",
       "      <th>provider</th>\n",
       "      <th>url</th>\n",
       "      <th>article_id</th>\n",
       "    </tr>\n",
       "    <tr>\n",
       "      <th>index</th>\n",
       "      <th></th>\n",
       "      <th></th>\n",
       "      <th></th>\n",
       "      <th></th>\n",
       "      <th></th>\n",
       "      <th></th>\n",
       "      <th></th>\n",
       "      <th></th>\n",
       "      <th></th>\n",
       "    </tr>\n",
       "  </thead>\n",
       "  <tbody>\n",
       "    <tr>\n",
       "      <th>1302</th>\n",
       "      <td>222817</td>\n",
       "      <td>INTC</td>\n",
       "      <td>Intel  INTC  To Post Q4 Earnings  DCG   CCG In...</td>\n",
       "      <td>opinion</td>\n",
       "      <td>Intel   NASDAQ INTC   is scheduled to report f...</td>\n",
       "      <td>2020-01-20</td>\n",
       "      <td>Zacks Investment Research</td>\n",
       "      <td>https://www.investing.com/analysis/intel-intc-...</td>\n",
       "      <td>200500288</td>\n",
       "    </tr>\n",
       "    <tr>\n",
       "      <th>1303</th>\n",
       "      <td>222818</td>\n",
       "      <td>INTC</td>\n",
       "      <td>Stocks Jump About 2  This Week On Trade Deals ...</td>\n",
       "      <td>opinion</td>\n",
       "      <td>The major indices just finished another positi...</td>\n",
       "      <td>2020-01-20</td>\n",
       "      <td>Zacks Investment Research</td>\n",
       "      <td>https://www.investing.com/analysis/stocks-jump...</td>\n",
       "      <td>200500165</td>\n",
       "    </tr>\n",
       "    <tr>\n",
       "      <th>1304</th>\n",
       "      <td>222819</td>\n",
       "      <td>INTC</td>\n",
       "      <td>Apple Partner Pegatron Plans New Facilities In...</td>\n",
       "      <td>opinion</td>\n",
       "      <td>Apple s   NASDAQ AAPL   assembly partner  Pega...</td>\n",
       "      <td>2020-01-20</td>\n",
       "      <td>Zacks Investment Research</td>\n",
       "      <td>https://www.investing.com/analysis/apple-partn...</td>\n",
       "      <td>200500270</td>\n",
       "    </tr>\n",
       "    <tr>\n",
       "      <th>1305</th>\n",
       "      <td>222820</td>\n",
       "      <td>MSFT</td>\n",
       "      <td>Microsoft exposed 250M customer support records</td>\n",
       "      <td>news</td>\n",
       "      <td>Microsoft  MSFT  0 1   discloses a database er...</td>\n",
       "      <td>2020-01-23</td>\n",
       "      <td>Seeking Alpha</td>\n",
       "      <td>https://invst.ly/pli4a</td>\n",
       "      <td>2065317</td>\n",
       "    </tr>\n",
       "    <tr>\n",
       "      <th>1307</th>\n",
       "      <td>222822</td>\n",
       "      <td>MSFT</td>\n",
       "      <td>Microsoft CEO Fears U S  China Mistrust Will H...</td>\n",
       "      <td>news</td>\n",
       "      <td>Bloomberg     Sign up here to receive the Dav...</td>\n",
       "      <td>2020-01-21</td>\n",
       "      <td>Bloomberg</td>\n",
       "      <td>https://www.investing.com/news/stock-market-ne...</td>\n",
       "      <td>2063837</td>\n",
       "    </tr>\n",
       "  </tbody>\n",
       "</table>\n",
       "</div>"
      ],
      "text/plain": [
       "           id ticker                                              title  \\\n",
       "index                                                                     \n",
       "1302   222817   INTC  Intel  INTC  To Post Q4 Earnings  DCG   CCG In...   \n",
       "1303   222818   INTC  Stocks Jump About 2  This Week On Trade Deals ...   \n",
       "1304   222819   INTC  Apple Partner Pegatron Plans New Facilities In...   \n",
       "1305   222820   MSFT    Microsoft exposed 250M customer support records   \n",
       "1307   222822   MSFT  Microsoft CEO Fears U S  China Mistrust Will H...   \n",
       "\n",
       "      category                                            content  \\\n",
       "index                                                               \n",
       "1302   opinion  Intel   NASDAQ INTC   is scheduled to report f...   \n",
       "1303   opinion  The major indices just finished another positi...   \n",
       "1304   opinion  Apple s   NASDAQ AAPL   assembly partner  Pega...   \n",
       "1305      news  Microsoft  MSFT  0 1   discloses a database er...   \n",
       "1307      news   Bloomberg     Sign up here to receive the Dav...   \n",
       "\n",
       "      release_date                   provider  \\\n",
       "index                                           \n",
       "1302    2020-01-20  Zacks Investment Research   \n",
       "1303    2020-01-20  Zacks Investment Research   \n",
       "1304    2020-01-20  Zacks Investment Research   \n",
       "1305    2020-01-23              Seeking Alpha   \n",
       "1307    2020-01-21                  Bloomberg   \n",
       "\n",
       "                                                     url  article_id  \n",
       "index                                                                 \n",
       "1302   https://www.investing.com/analysis/intel-intc-...   200500288  \n",
       "1303   https://www.investing.com/analysis/stocks-jump...   200500165  \n",
       "1304   https://www.investing.com/analysis/apple-partn...   200500270  \n",
       "1305                              https://invst.ly/pli4a     2065317  \n",
       "1307   https://www.investing.com/news/stock-market-ne...     2063837  "
      ]
     },
     "execution_count": 6,
     "metadata": {},
     "output_type": "execute_result"
    }
   ],
   "source": [
    "djia_news_companies_parquet_df.head()"
   ]
  }
 ],
 "metadata": {
  "kernelspec": {
   "display_name": "Python 3.9.7 ('base')",
   "language": "python",
   "name": "python3"
  },
  "language_info": {
   "codemirror_mode": {
    "name": "ipython",
    "version": 3
   },
   "file_extension": ".py",
   "mimetype": "text/x-python",
   "name": "python",
   "nbconvert_exporter": "python",
   "pygments_lexer": "ipython3",
   "version": "3.9.7"
  },
  "orig_nbformat": 4,
  "vscode": {
   "interpreter": {
    "hash": "f49206fcf84a9145e7e21228cbafa911d1ac18292303b01e865d8267a9c448f7"
   }
  }
 },
 "nbformat": 4,
 "nbformat_minor": 2
}
