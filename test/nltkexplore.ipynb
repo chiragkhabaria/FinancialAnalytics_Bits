{
 "cells": [
  {
   "cell_type": "code",
   "execution_count": 1,
   "metadata": {},
   "outputs": [],
   "source": [
    "import nltk\n",
    "from nltk.sentiment.vader import SentimentIntensityAnalyzer\n",
    "#nltk.download('vader_lexicon')"
   ]
  },
  {
   "cell_type": "code",
   "execution_count": 2,
   "metadata": {},
   "outputs": [
    {
     "data": {
      "text/plain": [
       "-0.293"
      ]
     },
     "execution_count": 2,
     "metadata": {},
     "output_type": "execute_result"
    }
   ],
   "source": [
    "SIA = SentimentIntensityAnalyzer()\n",
    "SIA.constants.B_DECR"
   ]
  },
  {
   "cell_type": "code",
   "execution_count": 5,
   "metadata": {},
   "outputs": [],
   "source": [
    "import sconfig\n",
    "secretAPI = sconfig.secretsConfig()"
   ]
  },
  {
   "cell_type": "code",
   "execution_count": 4,
   "metadata": {},
   "outputs": [
    {
     "name": "stdout",
     "output_type": "stream",
     "text": [
      "loading yaml file d:\\data\\development\\FinAnalytics\\FinancialAnalytics_Bits\\configuration\\yaml\\config.yml\n"
     ]
    }
   ],
   "source": [
    "from newAPIExtract import NewsAPIExtract\n",
    "newsAPI = NewsAPIExtract()"
   ]
  },
  {
   "cell_type": "code",
   "execution_count": 52,
   "metadata": {},
   "outputs": [
    {
     "name": "stdout",
     "output_type": "stream",
     "text": [
      "Title : Self-driving company Aurora mulling possible sale to Apple or Microsoft - Bloomberg News - Reuters\n",
      "Description : Aurora Innovation Inc <a href=\"https://www.reuters.com/companies/AUR.O\" target=\"_blank\">(AUR.O)</a> Chief Executive Chris Urmson recently laid out a series of options for the self-driving company to combat challenging market conditions, including a possible s…\n",
      "Title Polarity : {'neg': 0.0, 'neu': 1.0, 'pos': 0.0, 'compound': 0.0}\n",
      "Desc Polarity : {'neg': 0.076, 'neu': 0.791, 'pos': 0.133, 'compound': 0.2023}\n"
     ]
    }
   ],
   "source": [
    "desc = newsAPI.DJIACompaniesNewsAPIDf.head(10)['description'].iloc[4]\n",
    "title = newsAPI.DJIACompaniesNewsAPIDf.head(10)['title'].iloc[4]\n",
    "\n",
    "print(f\"Title : {title}\\nDescription : {desc}\")\n",
    "print(f\"Title Polarity : {SIA.polarity_scores(title)}\")\n",
    "print(f\"Desc Polarity : {SIA.polarity_scores(desc)}\")"
   ]
  },
  {
   "cell_type": "code",
   "execution_count": 11,
   "metadata": {},
   "outputs": [],
   "source": [
    "text1 = newsAPI.KaggleDJIANewsDF.head(10)['title'].iloc[4]"
   ]
  },
  {
   "cell_type": "code",
   "execution_count": 3,
   "metadata": {},
   "outputs": [],
   "source": [
    "def getSentimentPolarity(text):\n",
    "    return SIA.polarity_scores(text)"
   ]
  },
  {
   "cell_type": "code",
   "execution_count": 7,
   "metadata": {},
   "outputs": [
    {
     "data": {
      "text/plain": [
       "{'neg': 0.0, 'neu': 0.514, 'pos': 0.486, 'compound': 0.8599}"
      ]
     },
     "execution_count": 7,
     "metadata": {},
     "output_type": "execute_result"
    }
   ],
   "source": [
    "text = \"The service wasn’t that great, but the food was extremely GOOD!!\"\n",
    "text = \"RIL gains as co to demerge, list Jio Financial Services\"\n",
    "getSentimentPolarity(text)"
   ]
  },
  {
   "cell_type": "code",
   "execution_count": 8,
   "metadata": {},
   "outputs": [],
   "source": [
    "def getSentimentPolarityDF(x):\n",
    "    sentimentScores = getSentimentPolarity(x['content'][:200])\n",
    "    for s in sentimentScores:\n",
    "        x[s] = sentimentScores[s]\n",
    "    return x "
   ]
  },
  {
   "cell_type": "code",
   "execution_count": 10,
   "metadata": {},
   "outputs": [],
   "source": [
    "df = newsAPI.KaggleDJIANewsDF.head(10)\n",
    "df = df.apply(getSentimentPolarityDF,axis=1)"
   ]
  },
  {
   "cell_type": "code",
   "execution_count": 14,
   "metadata": {},
   "outputs": [],
   "source": [
    "filterDF = df.where(\n",
    "                    df[\"ticker\"] == \"MSFT\"\n",
    "                )"
   ]
  },
  {
   "cell_type": "code",
   "execution_count": null,
   "metadata": {},
   "outputs": [],
   "source": [
    "filterDF.dropna()"
   ]
  },
  {
   "cell_type": "code",
   "execution_count": 91,
   "metadata": {},
   "outputs": [
    {
     "name": "stdout",
     "output_type": "stream",
     "text": [
      "Microsoft  MSFT  0 1   discloses a database error that temporarily exposed approximately 250M customer support records \n",
      "Security researchers found the flaw on December 29  and Microsoft fixed the problem two days later \n",
      "Microsoft says the exposure was due to a misconfiguration of an internal customer support database \n",
      "The company found no evidence of malicious use \n"
     ]
    },
    {
     "data": {
      "text/plain": [
       "{'neg': 0.147, 'neu': 0.725, 'pos': 0.129, 'compound': -0.0258}"
      ]
     },
     "execution_count": 91,
     "metadata": {},
     "output_type": "execute_result"
    }
   ],
   "source": [
    "print(df['content'].iloc[3])\n",
    "getSentimentPolarity(df['content'].iloc[3])"
   ]
  },
  {
   "cell_type": "code",
   "execution_count": 1,
   "metadata": {},
   "outputs": [],
   "source": [
    "import sys\n",
    "sys.path.insert(0,'../configuration/')\n",
    "sys.path.insert(1,'../ingestion/')"
   ]
  },
  {
   "cell_type": "code",
   "execution_count": null,
   "metadata": {},
   "outputs": [],
   "source": [
    "import pandas as pd \n",
    "from processSentimentScore import ProcessSentimentScore\n",
    "\n",
    "sentimentScore = ProcessSentimentScore()\n",
    "#sentimentScore.processKaggleSentimentScore()\n",
    "sentimentScore.processNewsAPISentimentScore()\n",
    "sentimentScore.kaggleNewsSentiColsDF.head(2)\n",
    "\n",
    "sentimentScore.newsAPISentiColsDF.head(2)\n",
    "\n",
    "mergedf = pd.concat([sentimentScore.kaggleNewsSentiColsDF,sentimentScore.newsAPISentiColsDF])\n",
    "mergedf.head(2)"
   ]
  },
  {
   "cell_type": "code",
   "execution_count": null,
   "metadata": {},
   "outputs": [],
   "source": [
    "import pandas as pd \n",
    "datapth = \"D:\\\\data\\\\development\\\\FinAnalytics\\\\FinancialAnalytics_Bits\\\\stocks_data\\\\senti_data\\\\kaggle\"\n",
    "kaggledf =pd.read_parquet(datapth)\n",
    "kaggledf.head(2)\n",
    "#kaggledf.columns\n"
   ]
  },
  {
   "cell_type": "code",
   "execution_count": 6,
   "metadata": {},
   "outputs": [
    {
     "data": {
      "text/plain": [
       "Index(['author', 'title', 'description', 'url', 'urlToImage', 'publishedAt',\n",
       "       'content', 'source.id', 'source.name', 'companyname', 'symbol',\n",
       "       'title_neg', 'title_neu', 'title_pos', 'title_compound',\n",
       "       'description_neg', 'description_neu', 'description_pos',\n",
       "       'description_compound'],\n",
       "      dtype='object')"
      ]
     },
     "execution_count": 6,
     "metadata": {},
     "output_type": "execute_result"
    }
   ],
   "source": [
    "import pandas as pd \n",
    "datapth = \"D:\\\\data\\\\development\\\\FinAnalytics\\\\FinancialAnalytics_Bits\\\\stocks_data\\\\senti_data\\\\newsAPI\"\n",
    "newsAPIDF =pd.read_parquet(datapth)\n",
    "#newsAPIDF.head(2)\n",
    "newsAPIDF.columns\n",
    "\n"
   ]
  },
  {
   "cell_type": "code",
   "execution_count": null,
   "metadata": {},
   "outputs": [],
   "source": [
    "df"
   ]
  }
 ],
 "metadata": {
  "kernelspec": {
   "display_name": "Python 3.9.7 ('base')",
   "language": "python",
   "name": "python3"
  },
  "language_info": {
   "codemirror_mode": {
    "name": "ipython",
    "version": 3
   },
   "file_extension": ".py",
   "mimetype": "text/x-python",
   "name": "python",
   "nbconvert_exporter": "python",
   "pygments_lexer": "ipython3",
   "version": "3.9.7"
  },
  "orig_nbformat": 4,
  "vscode": {
   "interpreter": {
    "hash": "f49206fcf84a9145e7e21228cbafa911d1ac18292303b01e865d8267a9c448f7"
   }
  }
 },
 "nbformat": 4,
 "nbformat_minor": 2
}
