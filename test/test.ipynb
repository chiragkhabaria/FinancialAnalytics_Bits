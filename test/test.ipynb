{
 "cells": [
  {
   "cell_type": "code",
   "execution_count": 1,
   "metadata": {},
   "outputs": [],
   "source": [
    "import sys\n",
    "sys.path.insert(0,'../configuration/')\n",
    "sys.path.insert(1,'../ingestion/')\n",
    "\n"
   ]
  },
  {
   "cell_type": "code",
   "execution_count": 2,
   "metadata": {},
   "outputs": [],
   "source": [
    "import sconfig\n",
    "\n",
    "secretAPI = sconfig.secretsConfig()\n"
   ]
  },
  {
   "cell_type": "code",
   "execution_count": 3,
   "metadata": {},
   "outputs": [
    {
     "name": "stdout",
     "output_type": "stream",
     "text": [
      "loading yaml file d:\\data\\development\\FinAnalytics\\configuration\\yaml\\config.yml\n"
     ]
    },
    {
     "data": {
      "text/plain": [
       "'b4f2458f9e0bec0559cc05b5a7855a0d'"
      ]
     },
     "execution_count": 3,
     "metadata": {},
     "output_type": "execute_result"
    }
   ],
   "source": [
    "secretAPI.Tokens.financialmodelingprep"
   ]
  },
  {
   "cell_type": "code",
   "execution_count": null,
   "metadata": {},
   "outputs": [],
   "source": [
    "print(secretAPI.secretsValue)\n",
    "print(type(secretAPI.secretsValue))"
   ]
  },
  {
   "cell_type": "code",
   "execution_count": null,
   "metadata": {},
   "outputs": [],
   "source": [
    "from types import SimpleNamespace\n",
    "nt = SimpleNamespace(**secretAPI.secretsValue['tokens'])\n"
   ]
  },
  {
   "cell_type": "code",
   "execution_count": null,
   "metadata": {},
   "outputs": [],
   "source": [
    "from newsapi import NewsApiClient\n",
    "\n",
    "# Init\n",
    "newsapi = NewsApiClient(api_key=secretAPI.Tokens.newspi)\n",
    "\n",
    "# /v2/top-headlines\n",
    "top_headlines = newsapi.get_everything(q='Salesforce.Com Inc',\n",
    "                                          language='en',\n",
    "                                          from_param='2022-08-30',\n",
    "                                          to='2022-09-22',\n",
    "                                          )\n",
    "                                        "
   ]
  },
  {
   "cell_type": "code",
   "execution_count": null,
   "metadata": {},
   "outputs": [],
   "source": [
    "x=0 \n",
    "for article in top_headlines['articles']:\n",
    "    print(article)\n",
    "    x=x+1\n",
    "    if x == 2:\n",
    "        break\n"
   ]
  },
  {
   "cell_type": "code",
   "execution_count": 2,
   "metadata": {},
   "outputs": [
    {
     "name": "stdout",
     "output_type": "stream",
     "text": [
      "loading yaml file d:\\data\\development\\FinAnalytics\\configuration\\yaml\\config.yml\n",
      "Extracting Data for Company :: Salesforce.Com Inc. startDate :: 2022-09-01. endDate :: 2022-09-30. path :: D:\\data\\development\\FinAnalytics\\stocks_data\\news_api\\CRM\\CRM_20220930.parquet\n",
      "Extracting Data for Company :: Walgreens Boots Alliance Inc. startDate :: 2022-09-01. endDate :: 2022-09-30. path :: D:\\data\\development\\FinAnalytics\\stocks_data\\news_api\\WBA\\WBA_20220930.parquet\n",
      "Extracting Data for Company :: Visa Inc. startDate :: 2022-09-01. endDate :: 2022-09-30. path :: D:\\data\\development\\FinAnalytics\\stocks_data\\news_api\\V\\V_20220930.parquet\n",
      "Extracting Data for Company :: Nike Inc. startDate :: 2022-09-01. endDate :: 2022-09-30. path :: D:\\data\\development\\FinAnalytics\\stocks_data\\news_api\\NKE\\NKE_20220930.parquet\n",
      "Extracting Data for Company :: UnitedHealth Group Inc. startDate :: 2022-09-01. endDate :: 2022-09-30. path :: D:\\data\\development\\FinAnalytics\\stocks_data\\news_api\\UNH\\UNH_20220930.parquet\n",
      "Extracting Data for Company :: Travelers Companies Inc. startDate :: 2022-09-01. endDate :: 2022-09-30. path :: D:\\data\\development\\FinAnalytics\\stocks_data\\news_api\\TRV\\TRV_20220930.parquet\n",
      "Extracting Data for Company :: Verizon Communications Inc. startDate :: 2022-09-01. endDate :: 2022-09-30. path :: D:\\data\\development\\FinAnalytics\\stocks_data\\news_api\\VZ\\VZ_20220930.parquet\n",
      "Extracting Data for Company :: Intel Corp. startDate :: 2022-09-01. endDate :: 2022-09-30. path :: D:\\data\\development\\FinAnalytics\\stocks_data\\news_api\\INTC\\INTC_20220930.parquet\n",
      "Extracting Data for Company :: Walmart Inc. startDate :: 2022-09-01. endDate :: 2022-09-30. path :: D:\\data\\development\\FinAnalytics\\stocks_data\\news_api\\WMT\\WMT_20220930.parquet\n",
      "Extracting Data for Company :: Johnson & Johnson. startDate :: 2022-09-01. endDate :: 2022-09-30. path :: D:\\data\\development\\FinAnalytics\\stocks_data\\news_api\\JNJ\\JNJ_20220930.parquet\n",
      "Extracting Data for Company :: Walt Disney Co. startDate :: 2022-09-01. endDate :: 2022-09-30. path :: D:\\data\\development\\FinAnalytics\\stocks_data\\news_api\\DIS\\DIS_20220930.parquet\n",
      "Extracting Data for Company :: Mcdonald's Corp. startDate :: 2022-09-01. endDate :: 2022-09-30. path :: D:\\data\\development\\FinAnalytics\\stocks_data\\news_api\\MCD\\MCD_20220930.parquet\n",
      "Extracting Data for Company :: JPMorgan Chase & Co. startDate :: 2022-09-01. endDate :: 2022-09-30. path :: D:\\data\\development\\FinAnalytics\\stocks_data\\news_api\\JPM\\JPM_20220930.parquet\n",
      "Extracting Data for Company :: Caterpillar Inc. startDate :: 2022-09-01. endDate :: 2022-09-30. path :: D:\\data\\development\\FinAnalytics\\stocks_data\\news_api\\CAT\\CAT_20220930.parquet\n",
      "Extracting Data for Company :: Boeing Co. startDate :: 2022-09-01. endDate :: 2022-09-30. path :: D:\\data\\development\\FinAnalytics\\stocks_data\\news_api\\BA\\BA_20220930.parquet\n",
      "Extracting Data for Company :: Amgen Inc. startDate :: 2022-09-01. endDate :: 2022-09-30. path :: D:\\data\\development\\FinAnalytics\\stocks_data\\news_api\\AMGN\\AMGN_20220930.parquet\n",
      "Extracting Data for Company :: Dow Inc. startDate :: 2022-09-01. endDate :: 2022-09-30. path :: D:\\data\\development\\FinAnalytics\\stocks_data\\news_api\\DOW\\DOW_20220930.parquet\n",
      "Extracting Data for Company :: Apple Inc. startDate :: 2022-09-01. endDate :: 2022-09-30. path :: D:\\data\\development\\FinAnalytics\\stocks_data\\news_api\\AAPL\\AAPL_20220930.parquet\n",
      "Extracting Data for Company :: Goldman Sachs Group Inc. startDate :: 2022-09-01. endDate :: 2022-09-30. path :: D:\\data\\development\\FinAnalytics\\stocks_data\\news_api\\GS\\GS_20220930.parquet\n",
      "Extracting Data for Company :: Cisco Systems Inc. startDate :: 2022-09-01. endDate :: 2022-09-30. path :: D:\\data\\development\\FinAnalytics\\stocks_data\\news_api\\CSCO\\CSCO_20220930.parquet\n",
      "Extracting Data for Company :: Microsoft Corp. startDate :: 2022-09-01. endDate :: 2022-09-30. path :: D:\\data\\development\\FinAnalytics\\stocks_data\\news_api\\MSFT\\MSFT_20220930.parquet\n",
      "Extracting Data for Company :: Home Depot Inc. startDate :: 2022-09-01. endDate :: 2022-09-30. path :: D:\\data\\development\\FinAnalytics\\stocks_data\\news_api\\HD\\HD_20220930.parquet\n",
      "Extracting Data for Company :: Procter & Gamble Co. startDate :: 2022-09-01. endDate :: 2022-09-30. path :: D:\\data\\development\\FinAnalytics\\stocks_data\\news_api\\PG\\PG_20220930.parquet\n",
      "Extracting Data for Company :: Merck & Co Inc. startDate :: 2022-09-01. endDate :: 2022-09-30. path :: D:\\data\\development\\FinAnalytics\\stocks_data\\news_api\\MRK\\MRK_20220930.parquet\n",
      "Extracting Data for Company :: International Business Machines Corp. startDate :: 2022-09-01. endDate :: 2022-09-30. path :: D:\\data\\development\\FinAnalytics\\stocks_data\\news_api\\IBM\\IBM_20220930.parquet\n",
      "Extracting Data for Company :: Honeywell International Inc. startDate :: 2022-09-01. endDate :: 2022-09-30. path :: D:\\data\\development\\FinAnalytics\\stocks_data\\news_api\\HON\\HON_20220930.parquet\n",
      "Extracting Data for Company :: Coca-Cola Co. startDate :: 2022-09-01. endDate :: 2022-09-30. path :: D:\\data\\development\\FinAnalytics\\stocks_data\\news_api\\KO\\KO_20220930.parquet\n",
      "Extracting Data for Company :: Chevron Corp. startDate :: 2022-09-01. endDate :: 2022-09-30. path :: D:\\data\\development\\FinAnalytics\\stocks_data\\news_api\\CVX\\CVX_20220930.parquet\n",
      "Extracting Data for Company :: American Express Co. startDate :: 2022-09-01. endDate :: 2022-09-30. path :: D:\\data\\development\\FinAnalytics\\stocks_data\\news_api\\AXP\\AXP_20220930.parquet\n",
      "Extracting Data for Company :: 3M Co. startDate :: 2022-09-01. endDate :: 2022-09-30. path :: D:\\data\\development\\FinAnalytics\\stocks_data\\news_api\\MMM\\MMM_20220930.parquet\n"
     ]
    }
   ],
   "source": [
    "from newAPIExtract import NewsAPIExtract\n",
    "newsAPI = NewsAPIExtract()\n",
    "newsAPI.extractDJIACompaniesNews()"
   ]
  },
  {
   "cell_type": "markdown",
   "metadata": {},
   "source": []
  },
  {
   "cell_type": "code",
   "execution_count": 4,
   "metadata": {},
   "outputs": [
    {
     "name": "stdout",
     "output_type": "stream",
     "text": [
      "<class 'pandas.core.frame.DataFrame'>\n",
      "RangeIndex: 2991 entries, 0 to 2990\n",
      "Data columns (total 11 columns):\n",
      " #   Column       Non-Null Count  Dtype \n",
      "---  ------       --------------  ----- \n",
      " 0   author       2428 non-null   object\n",
      " 1   title        2991 non-null   object\n",
      " 2   description  2990 non-null   object\n",
      " 3   url          2991 non-null   object\n",
      " 4   urlToImage   2958 non-null   object\n",
      " 5   publishedAt  2991 non-null   object\n",
      " 6   content      2991 non-null   object\n",
      " 7   source.id    530 non-null    object\n",
      " 8   source.name  2991 non-null   object\n",
      " 9   companyname  2991 non-null   object\n",
      " 10  symbol       2991 non-null   object\n",
      "dtypes: object(11)\n",
      "memory usage: 257.2+ KB\n"
     ]
    }
   ],
   "source": [
    "djia_new_api_df.info()"
   ]
  },
  {
   "cell_type": "code",
   "execution_count": 1,
   "metadata": {},
   "outputs": [
    {
     "data": {
      "text/html": [
       "<div>\n",
       "<style scoped>\n",
       "    .dataframe tbody tr th:only-of-type {\n",
       "        vertical-align: middle;\n",
       "    }\n",
       "\n",
       "    .dataframe tbody tr th {\n",
       "        vertical-align: top;\n",
       "    }\n",
       "\n",
       "    .dataframe thead th {\n",
       "        text-align: right;\n",
       "    }\n",
       "</style>\n",
       "<table border=\"1\" class=\"dataframe\">\n",
       "  <thead>\n",
       "    <tr style=\"text-align: right;\">\n",
       "      <th></th>\n",
       "      <th>author</th>\n",
       "      <th>title</th>\n",
       "      <th>description</th>\n",
       "      <th>url</th>\n",
       "      <th>urlToImage</th>\n",
       "      <th>publishedAt</th>\n",
       "      <th>content</th>\n",
       "      <th>source.id</th>\n",
       "      <th>source.name</th>\n",
       "      <th>companyname</th>\n",
       "      <th>symbol</th>\n",
       "    </tr>\n",
       "  </thead>\n",
       "  <tbody>\n",
       "    <tr>\n",
       "      <th>2986</th>\n",
       "      <td>Reuters</td>\n",
       "      <td>U.S. holiday sales growth likely to slow as in...</td>\n",
       "      <td>Holiday spending growth is projected to slow t...</td>\n",
       "      <td>https://finance.yahoo.com/news/u-holiday-sales...</td>\n",
       "      <td>https://s.yimg.com/uu/api/res/1.2/7vYJaVsS8ZJZ...</td>\n",
       "      <td>2022-09-12T15:15:35Z</td>\n",
       "      <td>(Reuters) - U.S. sales growth is expected to s...</td>\n",
       "      <td>None</td>\n",
       "      <td>Yahoo Entertainment</td>\n",
       "      <td>Walmart Inc</td>\n",
       "      <td>WMT</td>\n",
       "    </tr>\n",
       "    <tr>\n",
       "      <th>2987</th>\n",
       "      <td>Usman Kabir</td>\n",
       "      <td>Billionaire Ray Dalio Is Selling These 10 Tech...</td>\n",
       "      <td>In this article, we discuss the 10 tech stocks...</td>\n",
       "      <td>https://finance.yahoo.com/news/billionaire-ray...</td>\n",
       "      <td>https://s.yimg.com/uu/api/res/1.2/0f3xdHigKPR2...</td>\n",
       "      <td>2022-09-06T14:38:52Z</td>\n",
       "      <td>In this article, we discuss the 10 tech stocks...</td>\n",
       "      <td>None</td>\n",
       "      <td>Yahoo Entertainment</td>\n",
       "      <td>Walmart Inc</td>\n",
       "      <td>WMT</td>\n",
       "    </tr>\n",
       "    <tr>\n",
       "      <th>2988</th>\n",
       "      <td>Fortune Business Insights</td>\n",
       "      <td>Toothbrush Market to Reach USD 9.14 Billion by...</td>\n",
       "      <td>Key companies covered in Toothbrush Market are...</td>\n",
       "      <td>https://finance.yahoo.com/news/toothbrush-mark...</td>\n",
       "      <td>https://s.yimg.com/ny/api/res/1.2/Dn34WsZwNyGG...</td>\n",
       "      <td>2022-09-22T08:47:00Z</td>\n",
       "      <td>Fortune Business Insights\\r\\nKey companies cov...</td>\n",
       "      <td>None</td>\n",
       "      <td>Yahoo Entertainment</td>\n",
       "      <td>Walmart Inc</td>\n",
       "      <td>WMT</td>\n",
       "    </tr>\n",
       "    <tr>\n",
       "      <th>2989</th>\n",
       "      <td>Muhammad Jamal Akbar</td>\n",
       "      <td>10 Blue Chip Stocks to Buy Now According to Bi...</td>\n",
       "      <td>In this article, we will take a look at the 10...</td>\n",
       "      <td>https://finance.yahoo.com/news/10-blue-chip-st...</td>\n",
       "      <td>https://s.yimg.com/uu/api/res/1.2/eF8Ug8ZE43.1...</td>\n",
       "      <td>2022-09-17T15:22:24Z</td>\n",
       "      <td>In this article, we will take a look at the 10...</td>\n",
       "      <td>None</td>\n",
       "      <td>Yahoo Entertainment</td>\n",
       "      <td>Walmart Inc</td>\n",
       "      <td>WMT</td>\n",
       "    </tr>\n",
       "    <tr>\n",
       "      <th>2990</th>\n",
       "      <td>Cointelegraph By Ezra Reguerra</td>\n",
       "      <td>Walmart dives into the Metaverse: Nifty Newsle...</td>\n",
       "      <td>Animoca Brands co-founder Yat Siu said that th...</td>\n",
       "      <td>https://cointelegraph.com/news/walmart-dives-i...</td>\n",
       "      <td>https://images.cointelegraph.com/images/1200_a...</td>\n",
       "      <td>2022-09-28T20:00:00Z</td>\n",
       "      <td>In this weeks newsletter, read about how UNICE...</td>\n",
       "      <td>None</td>\n",
       "      <td>Cointelegraph</td>\n",
       "      <td>Walmart Inc</td>\n",
       "      <td>WMT</td>\n",
       "    </tr>\n",
       "  </tbody>\n",
       "</table>\n",
       "</div>"
      ],
      "text/plain": [
       "                              author  \\\n",
       "2986                         Reuters   \n",
       "2987                     Usman Kabir   \n",
       "2988       Fortune Business Insights   \n",
       "2989            Muhammad Jamal Akbar   \n",
       "2990  Cointelegraph By Ezra Reguerra   \n",
       "\n",
       "                                                  title  \\\n",
       "2986  U.S. holiday sales growth likely to slow as in...   \n",
       "2987  Billionaire Ray Dalio Is Selling These 10 Tech...   \n",
       "2988  Toothbrush Market to Reach USD 9.14 Billion by...   \n",
       "2989  10 Blue Chip Stocks to Buy Now According to Bi...   \n",
       "2990  Walmart dives into the Metaverse: Nifty Newsle...   \n",
       "\n",
       "                                            description  \\\n",
       "2986  Holiday spending growth is projected to slow t...   \n",
       "2987  In this article, we discuss the 10 tech stocks...   \n",
       "2988  Key companies covered in Toothbrush Market are...   \n",
       "2989  In this article, we will take a look at the 10...   \n",
       "2990  Animoca Brands co-founder Yat Siu said that th...   \n",
       "\n",
       "                                                    url  \\\n",
       "2986  https://finance.yahoo.com/news/u-holiday-sales...   \n",
       "2987  https://finance.yahoo.com/news/billionaire-ray...   \n",
       "2988  https://finance.yahoo.com/news/toothbrush-mark...   \n",
       "2989  https://finance.yahoo.com/news/10-blue-chip-st...   \n",
       "2990  https://cointelegraph.com/news/walmart-dives-i...   \n",
       "\n",
       "                                             urlToImage           publishedAt  \\\n",
       "2986  https://s.yimg.com/uu/api/res/1.2/7vYJaVsS8ZJZ...  2022-09-12T15:15:35Z   \n",
       "2987  https://s.yimg.com/uu/api/res/1.2/0f3xdHigKPR2...  2022-09-06T14:38:52Z   \n",
       "2988  https://s.yimg.com/ny/api/res/1.2/Dn34WsZwNyGG...  2022-09-22T08:47:00Z   \n",
       "2989  https://s.yimg.com/uu/api/res/1.2/eF8Ug8ZE43.1...  2022-09-17T15:22:24Z   \n",
       "2990  https://images.cointelegraph.com/images/1200_a...  2022-09-28T20:00:00Z   \n",
       "\n",
       "                                                content source.id  \\\n",
       "2986  (Reuters) - U.S. sales growth is expected to s...      None   \n",
       "2987  In this article, we discuss the 10 tech stocks...      None   \n",
       "2988  Fortune Business Insights\\r\\nKey companies cov...      None   \n",
       "2989  In this article, we will take a look at the 10...      None   \n",
       "2990  In this weeks newsletter, read about how UNICE...      None   \n",
       "\n",
       "              source.name  companyname symbol  \n",
       "2986  Yahoo Entertainment  Walmart Inc    WMT  \n",
       "2987  Yahoo Entertainment  Walmart Inc    WMT  \n",
       "2988  Yahoo Entertainment  Walmart Inc    WMT  \n",
       "2989  Yahoo Entertainment  Walmart Inc    WMT  \n",
       "2990        Cointelegraph  Walmart Inc    WMT  "
      ]
     },
     "execution_count": 1,
     "metadata": {},
     "output_type": "execute_result"
    }
   ],
   "source": [
    "import pandas as pd \n",
    "\n",
    "djia_new_api_df  = pd.read_parquet(\"D:\\\\data\\development\\\\FinAnalytics\\\\stocks_data\\\\news_api\\\\\")\n",
    "djia_new_api_df.tail()\n"
   ]
  },
  {
   "cell_type": "code",
   "execution_count": null,
   "metadata": {},
   "outputs": [],
   "source": [
    "import pandas as pd\n",
    "headlines_pd = pd.json_normalize(top_headlines, [\"articles\"])"
   ]
  },
  {
   "cell_type": "code",
   "execution_count": null,
   "metadata": {},
   "outputs": [],
   "source": [
    "headlines_pd\n"
   ]
  }
 ],
 "metadata": {
  "kernelspec": {
   "display_name": "Python 3.9.7 ('base')",
   "language": "python",
   "name": "python3"
  },
  "language_info": {
   "codemirror_mode": {
    "name": "ipython",
    "version": 3
   },
   "file_extension": ".py",
   "mimetype": "text/x-python",
   "name": "python",
   "nbconvert_exporter": "python",
   "pygments_lexer": "ipython3",
   "version": "3.9.7"
  },
  "orig_nbformat": 4,
  "vscode": {
   "interpreter": {
    "hash": "f49206fcf84a9145e7e21228cbafa911d1ac18292303b01e865d8267a9c448f7"
   }
  }
 },
 "nbformat": 4,
 "nbformat_minor": 2
}
